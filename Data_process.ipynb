{
 "cells": [
  {
   "cell_type": "code",
   "execution_count": 62,
   "metadata": {},
   "outputs": [],
   "source": [
    "\n",
    "import pickle\n",
    "from sklearn.preprocessing import MinMaxScaler\n",
    "import pandas as pd\n",
    "import numpy as np\n",
    "import os\n",
    "\n",
    "from collections import deque\n",
    "import matplotlib.pyplot as plt\n",
    "\n",
    "import tensorflow as tf\n",
    "\n",
    "from tensorflow.keras import Model\n",
    "from tensorflow.keras.layers import Input, RepeatVector, LSTM, Dense, Lambda, TimeDistributed\n",
    "from tensorflow.keras import losses, metrics, activations\n",
    "from tensorflow.keras import backend as K\n",
    "from tensorflow.keras.callbacks import EarlyStopping, ModelCheckpoint\n"
   ]
  },
  {
   "cell_type": "code",
   "execution_count": 59,
   "metadata": {
    "notebookRunGroups": {
     "groupValue": ""
    }
   },
   "outputs": [],
   "source": [
    "split = pickle.load(open('./final_data_ST_120_2019.pkl', 'rb'))['ST4000DM000']\n",
    "file_list = os.listdir('./ST4000DM000')\n",
    "train_list = split['train']\n",
    "val_list = split['val']\n",
    "test_list = split['test']\n",
    "col = ['smart_7_raw', 'smart_9_raw', 'smart_240_raw', 'smart_241_raw', 'smart_242_raw', 'until_fail_days']\n",
    "timestep_list = [5, 10, 20, 30]"
   ]
  },
  {
   "attachments": {},
   "cell_type": "markdown",
   "metadata": {},
   "source": [
    "### Min-Max Scaler"
   ]
  },
  {
   "cell_type": "code",
   "execution_count": 3,
   "metadata": {},
   "outputs": [],
   "source": [
    "scaler_path = './scaler_anomaly_detection.pkl'\n",
    "if not os.path.isfile(scaler_path):\n",
    "    scaler = MinMaxScaler()\n",
    "    min_value, max_value, min_scale, max_scale = [], [], [], []\n",
    "    for file_name in file_list:\n",
    "        db = pickle.load(open(f'./ST4000DM000/{file_name}', 'rb'))[col[:-1]]\n",
    "        each_min = db.min(axis=0)\n",
    "        each_max = db.max(axis=0)\n",
    "        min_value.append(each_min)\n",
    "        max_value.append(each_max)\n",
    "    min_scale.append(np.array(min_value).min(axis=0))\n",
    "    max_scale.append(np.array(max_value).max(axis=0))\n",
    "    scaler.fit([min_scale[0], max_scale[0]])\n",
    "    pickle.dump(scaler, open(scaler_path, 'wb'))\n",
    "else:\n",
    "    scaler = pickle.load(open(scaler_path, 'rb'))"
   ]
  },
  {
   "attachments": {},
   "cell_type": "markdown",
   "metadata": {},
   "source": [
    "### Data Configuration (Time_step = 120)"
   ]
  },
  {
   "cell_type": "code",
   "execution_count": 4,
   "metadata": {},
   "outputs": [],
   "source": [
    "db_path = './db.pkl'\n",
    "if not os.path.isfile(db_path):\n",
    "    db_zip = {f'{t}': {'train':[], 'val':[], 'test':[]} for t in time_step}\n",
    "    for file_name in file_list:\n",
    "        db = pickle.load(open(f'./ST4000DM000/{file_name}', 'rb'))\n",
    "        db = db[db['until_fail_days']>120][col[:-1]]\n",
    "        for t in time_step:\n",
    "            if len(db) >= t:\n",
    "                scaled_db = scaler.transform(db)\n",
    "                if file_name[:-4] in train_list:\n",
    "                    db_zip[f'{t}']['train'].append([scaled_db[line:line+t] for line in range(0, len(scaled_db)-t+1)])\n",
    "                elif file_name[:-4] in val_list:\n",
    "                    db_zip[f'{t}']['val'].append([scaled_db[line:line+t] for line in range(0, len(scaled_db)-t+1)])\n",
    "                elif file_name[:-4] in test_list:\n",
    "                    db_zip[f'{t}']['test'].append([scaled_db[line:line+t] for line in range(0, len(scaled_db)-t+1)])\n",
    "                    \n",
    "    for t in time_step:\n",
    "        db_zip[f'{t}']['train'] = np.concatenate(db_zip[f'{t}']['train'])\n",
    "        db_zip[f'{t}']['val'] = np.concatenate(db_zip[f'{t}']['val'])\n",
    "        db_zip[f'{t}']['test'] = np.concatenate(db_zip[f'{t}']['test'])\n",
    "    pickle.dump(db_zip, open(db_path, 'wb'))\n",
    "else:\n",
    "    db_zip = pickle.load(open(db_path, 'rb'))"
   ]
  },
  {
   "attachments": {},
   "cell_type": "markdown",
   "metadata": {},
   "source": [
    "### Model Configuration"
   ]
  },
  {
   "cell_type": "code",
   "execution_count": 5,
   "metadata": {},
   "outputs": [],
   "source": [
    "def flatten(X):\n",
    "    '''\n",
    "    Flatten a 3D array.\n",
    "\n",
    "    Input\n",
    "    X            A 3D array for lstm, where the array is sample x timesteps x features.\n",
    "\n",
    "    Output\n",
    "    flattened_X  A 2D array, sample x features.\n",
    "    '''\n",
    "    flattened_X = np.empty((X.shape[0], X.shape[2]))  # sample x features array.\n",
    "    for i in range(X.shape[0]):\n",
    "        flattened_X[i] = X[i, (X.shape[1] - 1), :]\n",
    "    return (flattened_X)"
   ]
  },
  {
   "cell_type": "code",
   "execution_count": 57,
   "metadata": {},
   "outputs": [],
   "source": [
    "def lstm_ae(db, n_dimensions):\n",
    "    time_step, input_dim = db.shape[1], db.shape[2]\n",
    "    inputs = Input(shape=(time_step, input_dim))\n",
    "    encoded = LSTM(n_dimensions, return_sequences=True, name=\"encoder_01\")(inputs)\n",
    "    encoded = LSTM(int(n_dimensions/2), return_sequences=False, name=\"encoder_02\")(encoded)\n",
    "    decoded = RepeatVector(time_step)(encoded)\n",
    "    decoded = LSTM(int(input_dim/2), return_sequences=True, name='decoder_01')(decoded)\n",
    "    decoded = LSTM(n_dimensions, return_sequences=True, name='decoder_02')(decoded)\n",
    "    output = TimeDistributed(Dense(input_dim))(decoded)\n",
    "\n",
    "\n",
    "    autoencoder = Model(inputs, output)\n",
    "    autoencoder.compile(optimizer='adam', loss='mse', metrics=['cosine_proximity'])\n",
    "    autoencoder.summary()\n",
    "    return autoencoder"
   ]
  },
  {
   "cell_type": "code",
   "execution_count": 64,
   "metadata": {},
   "outputs": [
    {
     "name": "stdout",
     "output_type": "stream",
     "text": [
      "WARNING:tensorflow:Layer encoder_01 will not use cuDNN kernels since it doesn't meet the criteria. It will use a generic GPU kernel as fallback when running on GPU.\n",
      "WARNING:tensorflow:Layer encoder_02 will not use cuDNN kernels since it doesn't meet the criteria. It will use a generic GPU kernel as fallback when running on GPU.\n",
      "WARNING:tensorflow:Layer decoder_01 will not use cuDNN kernels since it doesn't meet the criteria. It will use a generic GPU kernel as fallback when running on GPU.\n",
      "WARNING:tensorflow:Layer decoder_02 will not use cuDNN kernels since it doesn't meet the criteria. It will use a generic GPU kernel as fallback when running on GPU.\n",
      "Model: \"model_43\"\n",
      "_________________________________________________________________\n",
      " Layer (type)                Output Shape              Param #   \n",
      "=================================================================\n",
      " input_28 (InputLayer)       [(None, 5, 5)]            0         \n",
      "                                                                 \n",
      " encoder_01 (LSTM)           (None, 5, 32)             4864      \n",
      "                                                                 \n",
      " encoder_02 (LSTM)           (None, 16)                3136      \n",
      "                                                                 \n",
      " repeat_vector_35 (RepeatVec  (None, 5, 16)            0         \n",
      " tor)                                                            \n",
      "                                                                 \n",
      " decoder_01 (LSTM)           (None, 5, 2)              152       \n",
      "                                                                 \n",
      " decoder_02 (LSTM)           (None, 5, 32)             4480      \n",
      "                                                                 \n",
      " time_distributed_19 (TimeDi  (None, 5, 5)             165       \n",
      " stributed)                                                      \n",
      "                                                                 \n",
      "=================================================================\n",
      "Total params: 12,797\n",
      "Trainable params: 12,797\n",
      "Non-trainable params: 0\n",
      "_________________________________________________________________\n",
      "Train on 4779 samples, validate on 642 samples\n",
      "Epoch 1/500\n",
      "4779/4779 [==============================] - 5s 967us/sample - loss: 0.1989 - cosine_proximity: 0.8895 - val_loss: 0.0821 - val_cosine_proximity: 0.9548\n",
      "Epoch 2/500\n",
      "4779/4779 [==============================] - 2s 390us/sample - loss: 0.0693 - cosine_proximity: 0.9723 - val_loss: 0.0521 - val_cosine_proximity: 0.9801\n",
      "Epoch 3/500\n",
      "4779/4779 [==============================] - 2s 398us/sample - loss: 0.0445 - cosine_proximity: 0.9782 - val_loss: 0.0303 - val_cosine_proximity: 0.9792\n",
      "Epoch 4/500\n",
      "4779/4779 [==============================] - 2s 430us/sample - loss: 0.0262 - cosine_proximity: 0.9807 - val_loss: 0.0153 - val_cosine_proximity: 0.9757\n",
      "Epoch 5/500\n",
      "4779/4779 [==============================] - 2s 425us/sample - loss: 0.0165 - cosine_proximity: 0.9837 - val_loss: 0.0092 - val_cosine_proximity: 0.9720\n",
      "Epoch 6/500\n",
      "4779/4779 [==============================] - 2s 428us/sample - loss: 0.0116 - cosine_proximity: 0.9856 - val_loss: 0.0058 - val_cosine_proximity: 0.9702\n",
      "Epoch 7/500\n",
      "4779/4779 [==============================] - 2s 398us/sample - loss: 0.0085 - cosine_proximity: 0.9865 - val_loss: 0.0039 - val_cosine_proximity: 0.9681\n",
      "Epoch 8/500\n",
      "4779/4779 [==============================] - 2s 404us/sample - loss: 0.0067 - cosine_proximity: 0.9872 - val_loss: 0.0027 - val_cosine_proximity: 0.9652\n",
      "Epoch 9/500\n",
      "4779/4779 [==============================] - 2s 398us/sample - loss: 0.0058 - cosine_proximity: 0.9879 - val_loss: 0.0022 - val_cosine_proximity: 0.9610\n",
      "Epoch 10/500\n",
      "4779/4779 [==============================] - 2s 408us/sample - loss: 0.0055 - cosine_proximity: 0.9885 - val_loss: 0.0020 - val_cosine_proximity: 0.9575\n",
      "Epoch 11/500\n"
     ]
    },
    {
     "ename": "KeyboardInterrupt",
     "evalue": "",
     "output_type": "error",
     "traceback": [
      "\u001b[1;31m---------------------------------------------------------------------------\u001b[0m",
      "\u001b[1;31mKeyboardInterrupt\u001b[0m                         Traceback (most recent call last)",
      "\u001b[1;32md:\\박지훈\\과제\\[1-2-3-2]\\2차년도(2023)\\Anomaly_Detection\\Data_process.ipynb 셀 10\u001b[0m in \u001b[0;36m<cell line: 5>\u001b[1;34m()\u001b[0m\n\u001b[0;32m      <a href='vscode-notebook-cell:/d%3A/%EB%B0%95%EC%A7%80%ED%9B%88/%EA%B3%BC%EC%A0%9C/%5B1-2-3-2%5D/2%EC%B0%A8%EB%85%84%EB%8F%84%282023%29/Anomaly_Detection/Data_process.ipynb#X30sZmlsZQ%3D%3D?line=7'>8</a>\u001b[0m mc \u001b[39m=\u001b[39m ModelCheckpoint(\u001b[39mf\u001b[39m\u001b[39m'\u001b[39m\u001b[39m./DB/time_step_\u001b[39m\u001b[39m{\u001b[39;00mtime_step\u001b[39m}\u001b[39;00m\u001b[39m_batch_\u001b[39m\u001b[39m{\u001b[39;00mbatch_size\u001b[39m}\u001b[39;00m\u001b[39m_node_\u001b[39m\u001b[39m{\u001b[39;00mn_dimensions\u001b[39m}\u001b[39;00m\u001b[39m.h5\u001b[39m\u001b[39m'\u001b[39m, monitor\u001b[39m=\u001b[39m\u001b[39m'\u001b[39m\u001b[39mval_loss\u001b[39m\u001b[39m'\u001b[39m, mode\u001b[39m=\u001b[39m\u001b[39m'\u001b[39m\u001b[39mmin\u001b[39m\u001b[39m'\u001b[39m, save_best_only\u001b[39m=\u001b[39m\u001b[39mTrue\u001b[39;00m)\n\u001b[0;32m     <a href='vscode-notebook-cell:/d%3A/%EB%B0%95%EC%A7%80%ED%9B%88/%EA%B3%BC%EC%A0%9C/%5B1-2-3-2%5D/2%EC%B0%A8%EB%85%84%EB%8F%84%282023%29/Anomaly_Detection/Data_process.ipynb#X30sZmlsZQ%3D%3D?line=9'>10</a>\u001b[0m model \u001b[39m=\u001b[39m lstm_ae(db\u001b[39m=\u001b[39mdb_zip[\u001b[39mf\u001b[39m\u001b[39m'\u001b[39m\u001b[39m{\u001b[39;00mtime_step\u001b[39m}\u001b[39;00m\u001b[39m'\u001b[39m][\u001b[39m'\u001b[39m\u001b[39mtrain\u001b[39m\u001b[39m'\u001b[39m], n_dimensions\u001b[39m=\u001b[39mn_dimensions)\n\u001b[1;32m---> <a href='vscode-notebook-cell:/d%3A/%EB%B0%95%EC%A7%80%ED%9B%88/%EA%B3%BC%EC%A0%9C/%5B1-2-3-2%5D/2%EC%B0%A8%EB%85%84%EB%8F%84%282023%29/Anomaly_Detection/Data_process.ipynb#X30sZmlsZQ%3D%3D?line=10'>11</a>\u001b[0m history \u001b[39m=\u001b[39m model\u001b[39m.\u001b[39;49mfit(x\u001b[39m=\u001b[39;49mdb_zip[\u001b[39mf\u001b[39;49m\u001b[39m'\u001b[39;49m\u001b[39m{\u001b[39;49;00mtime_step\u001b[39m}\u001b[39;49;00m\u001b[39m'\u001b[39;49m][\u001b[39m'\u001b[39;49m\u001b[39mtrain\u001b[39;49m\u001b[39m'\u001b[39;49m], y\u001b[39m=\u001b[39;49mdb_zip[\u001b[39mf\u001b[39;49m\u001b[39m'\u001b[39;49m\u001b[39m{\u001b[39;49;00mtime_step\u001b[39m}\u001b[39;49;00m\u001b[39m'\u001b[39;49m][\u001b[39m'\u001b[39;49m\u001b[39mtrain\u001b[39;49m\u001b[39m'\u001b[39;49m], validation_data\u001b[39m=\u001b[39;49m[db_zip[\u001b[39mf\u001b[39;49m\u001b[39m'\u001b[39;49m\u001b[39m{\u001b[39;49;00mtime_step\u001b[39m}\u001b[39;49;00m\u001b[39m'\u001b[39;49m][\u001b[39m'\u001b[39;49m\u001b[39mval\u001b[39;49m\u001b[39m'\u001b[39;49m], db_zip[\u001b[39mf\u001b[39;49m\u001b[39m'\u001b[39;49m\u001b[39m{\u001b[39;49;00mtime_step\u001b[39m}\u001b[39;49;00m\u001b[39m'\u001b[39;49m][\u001b[39m'\u001b[39;49m\u001b[39mval\u001b[39;49m\u001b[39m'\u001b[39;49m]], epochs\u001b[39m=\u001b[39;49mepoch, batch_size\u001b[39m=\u001b[39;49mbatch_size, callbacks\u001b[39m=\u001b[39;49m[callback])\n",
      "File \u001b[1;32mc:\\Program Files\\Python39\\lib\\site-packages\\keras\\engine\\training_v1.py:777\u001b[0m, in \u001b[0;36mModel.fit\u001b[1;34m(self, x, y, batch_size, epochs, verbose, callbacks, validation_split, validation_data, shuffle, class_weight, sample_weight, initial_epoch, steps_per_epoch, validation_steps, validation_freq, max_queue_size, workers, use_multiprocessing, **kwargs)\u001b[0m\n\u001b[0;32m    774\u001b[0m \u001b[39mself\u001b[39m\u001b[39m.\u001b[39m_check_call_args(\u001b[39m'\u001b[39m\u001b[39mfit\u001b[39m\u001b[39m'\u001b[39m)\n\u001b[0;32m    776\u001b[0m func \u001b[39m=\u001b[39m \u001b[39mself\u001b[39m\u001b[39m.\u001b[39m_select_training_loop(x)\n\u001b[1;32m--> 777\u001b[0m \u001b[39mreturn\u001b[39;00m func\u001b[39m.\u001b[39;49mfit(\n\u001b[0;32m    778\u001b[0m     \u001b[39mself\u001b[39;49m,\n\u001b[0;32m    779\u001b[0m     x\u001b[39m=\u001b[39;49mx,\n\u001b[0;32m    780\u001b[0m     y\u001b[39m=\u001b[39;49my,\n\u001b[0;32m    781\u001b[0m     batch_size\u001b[39m=\u001b[39;49mbatch_size,\n\u001b[0;32m    782\u001b[0m     epochs\u001b[39m=\u001b[39;49mepochs,\n\u001b[0;32m    783\u001b[0m     verbose\u001b[39m=\u001b[39;49mverbose,\n\u001b[0;32m    784\u001b[0m     callbacks\u001b[39m=\u001b[39;49mcallbacks,\n\u001b[0;32m    785\u001b[0m     validation_split\u001b[39m=\u001b[39;49mvalidation_split,\n\u001b[0;32m    786\u001b[0m     validation_data\u001b[39m=\u001b[39;49mvalidation_data,\n\u001b[0;32m    787\u001b[0m     shuffle\u001b[39m=\u001b[39;49mshuffle,\n\u001b[0;32m    788\u001b[0m     class_weight\u001b[39m=\u001b[39;49mclass_weight,\n\u001b[0;32m    789\u001b[0m     sample_weight\u001b[39m=\u001b[39;49msample_weight,\n\u001b[0;32m    790\u001b[0m     initial_epoch\u001b[39m=\u001b[39;49minitial_epoch,\n\u001b[0;32m    791\u001b[0m     steps_per_epoch\u001b[39m=\u001b[39;49msteps_per_epoch,\n\u001b[0;32m    792\u001b[0m     validation_steps\u001b[39m=\u001b[39;49mvalidation_steps,\n\u001b[0;32m    793\u001b[0m     validation_freq\u001b[39m=\u001b[39;49mvalidation_freq,\n\u001b[0;32m    794\u001b[0m     max_queue_size\u001b[39m=\u001b[39;49mmax_queue_size,\n\u001b[0;32m    795\u001b[0m     workers\u001b[39m=\u001b[39;49mworkers,\n\u001b[0;32m    796\u001b[0m     use_multiprocessing\u001b[39m=\u001b[39;49muse_multiprocessing)\n",
      "File \u001b[1;32mc:\\Program Files\\Python39\\lib\\site-packages\\keras\\engine\\training_arrays_v1.py:640\u001b[0m, in \u001b[0;36mArrayLikeTrainingLoop.fit\u001b[1;34m(self, model, x, y, batch_size, epochs, verbose, callbacks, validation_split, validation_data, shuffle, class_weight, sample_weight, initial_epoch, steps_per_epoch, validation_steps, validation_freq, **kwargs)\u001b[0m\n\u001b[0;32m    636\u001b[0m     \u001b[39mraise\u001b[39;00m \u001b[39mValueError\u001b[39;00m(\u001b[39m'\u001b[39m\u001b[39m`validation_steps` should not be specified if \u001b[39m\u001b[39m'\u001b[39m\n\u001b[0;32m    637\u001b[0m                      \u001b[39m'\u001b[39m\u001b[39m`validation_data` is None.\u001b[39m\u001b[39m'\u001b[39m)\n\u001b[0;32m    638\u001b[0m   val_x, val_y, val_sample_weights \u001b[39m=\u001b[39m \u001b[39mNone\u001b[39;00m, \u001b[39mNone\u001b[39;00m, \u001b[39mNone\u001b[39;00m\n\u001b[1;32m--> 640\u001b[0m \u001b[39mreturn\u001b[39;00m fit_loop(\n\u001b[0;32m    641\u001b[0m     model,\n\u001b[0;32m    642\u001b[0m     inputs\u001b[39m=\u001b[39;49mx,\n\u001b[0;32m    643\u001b[0m     targets\u001b[39m=\u001b[39;49my,\n\u001b[0;32m    644\u001b[0m     sample_weights\u001b[39m=\u001b[39;49msample_weights,\n\u001b[0;32m    645\u001b[0m     batch_size\u001b[39m=\u001b[39;49mbatch_size,\n\u001b[0;32m    646\u001b[0m     epochs\u001b[39m=\u001b[39;49mepochs,\n\u001b[0;32m    647\u001b[0m     verbose\u001b[39m=\u001b[39;49mverbose,\n\u001b[0;32m    648\u001b[0m     callbacks\u001b[39m=\u001b[39;49mcallbacks,\n\u001b[0;32m    649\u001b[0m     val_inputs\u001b[39m=\u001b[39;49mval_x,\n\u001b[0;32m    650\u001b[0m     val_targets\u001b[39m=\u001b[39;49mval_y,\n\u001b[0;32m    651\u001b[0m     val_sample_weights\u001b[39m=\u001b[39;49mval_sample_weights,\n\u001b[0;32m    652\u001b[0m     shuffle\u001b[39m=\u001b[39;49mshuffle,\n\u001b[0;32m    653\u001b[0m     initial_epoch\u001b[39m=\u001b[39;49minitial_epoch,\n\u001b[0;32m    654\u001b[0m     steps_per_epoch\u001b[39m=\u001b[39;49msteps_per_epoch,\n\u001b[0;32m    655\u001b[0m     validation_steps\u001b[39m=\u001b[39;49mvalidation_steps,\n\u001b[0;32m    656\u001b[0m     validation_freq\u001b[39m=\u001b[39;49mvalidation_freq,\n\u001b[0;32m    657\u001b[0m     steps_name\u001b[39m=\u001b[39;49m\u001b[39m'\u001b[39;49m\u001b[39msteps_per_epoch\u001b[39;49m\u001b[39m'\u001b[39;49m)\n",
      "File \u001b[1;32mc:\\Program Files\\Python39\\lib\\site-packages\\keras\\engine\\training_arrays_v1.py:376\u001b[0m, in \u001b[0;36mmodel_iteration\u001b[1;34m(model, inputs, targets, sample_weights, batch_size, epochs, verbose, callbacks, val_inputs, val_targets, val_sample_weights, shuffle, initial_epoch, steps_per_epoch, validation_steps, validation_freq, mode, validation_in_fit, prepared_feed_values_from_dataset, steps_name, **kwargs)\u001b[0m\n\u001b[0;32m    373\u001b[0m callbacks\u001b[39m.\u001b[39m_call_batch_hook(mode, \u001b[39m'\u001b[39m\u001b[39mbegin\u001b[39m\u001b[39m'\u001b[39m, batch_index, batch_logs)\n\u001b[0;32m    375\u001b[0m \u001b[39m# Get outputs.\u001b[39;00m\n\u001b[1;32m--> 376\u001b[0m batch_outs \u001b[39m=\u001b[39m f(ins_batch)\n\u001b[0;32m    377\u001b[0m \u001b[39mif\u001b[39;00m \u001b[39mnot\u001b[39;00m \u001b[39misinstance\u001b[39m(batch_outs, \u001b[39mlist\u001b[39m):\n\u001b[0;32m    378\u001b[0m   batch_outs \u001b[39m=\u001b[39m [batch_outs]\n",
      "File \u001b[1;32mc:\\Program Files\\Python39\\lib\\site-packages\\keras\\backend.py:4186\u001b[0m, in \u001b[0;36mGraphExecutionFunction.__call__\u001b[1;34m(self, inputs)\u001b[0m\n\u001b[0;32m   4180\u001b[0m \u001b[39mif\u001b[39;00m (\u001b[39mself\u001b[39m\u001b[39m.\u001b[39m_callable_fn \u001b[39mis\u001b[39;00m \u001b[39mNone\u001b[39;00m \u001b[39mor\u001b[39;00m feed_arrays \u001b[39m!=\u001b[39m \u001b[39mself\u001b[39m\u001b[39m.\u001b[39m_feed_arrays \u001b[39mor\u001b[39;00m\n\u001b[0;32m   4181\u001b[0m     symbol_vals \u001b[39m!=\u001b[39m \u001b[39mself\u001b[39m\u001b[39m.\u001b[39m_symbol_vals \u001b[39mor\u001b[39;00m\n\u001b[0;32m   4182\u001b[0m     feed_symbols \u001b[39m!=\u001b[39m \u001b[39mself\u001b[39m\u001b[39m.\u001b[39m_feed_symbols \u001b[39mor\u001b[39;00m \u001b[39mself\u001b[39m\u001b[39m.\u001b[39mfetches \u001b[39m!=\u001b[39m \u001b[39mself\u001b[39m\u001b[39m.\u001b[39m_fetches \u001b[39mor\u001b[39;00m\n\u001b[0;32m   4183\u001b[0m     session \u001b[39m!=\u001b[39m \u001b[39mself\u001b[39m\u001b[39m.\u001b[39m_session):\n\u001b[0;32m   4184\u001b[0m   \u001b[39mself\u001b[39m\u001b[39m.\u001b[39m_make_callable(feed_arrays, feed_symbols, symbol_vals, session)\n\u001b[1;32m-> 4186\u001b[0m fetched \u001b[39m=\u001b[39m \u001b[39mself\u001b[39;49m\u001b[39m.\u001b[39;49m_callable_fn(\u001b[39m*\u001b[39;49marray_vals,\n\u001b[0;32m   4187\u001b[0m                             run_metadata\u001b[39m=\u001b[39;49m\u001b[39mself\u001b[39;49m\u001b[39m.\u001b[39;49mrun_metadata)\n\u001b[0;32m   4188\u001b[0m \u001b[39mself\u001b[39m\u001b[39m.\u001b[39m_call_fetch_callbacks(fetched[\u001b[39m-\u001b[39m\u001b[39mlen\u001b[39m(\u001b[39mself\u001b[39m\u001b[39m.\u001b[39m_fetches):])\n\u001b[0;32m   4189\u001b[0m output_structure \u001b[39m=\u001b[39m tf\u001b[39m.\u001b[39mnest\u001b[39m.\u001b[39mpack_sequence_as(\n\u001b[0;32m   4190\u001b[0m     \u001b[39mself\u001b[39m\u001b[39m.\u001b[39m_outputs_structure,\n\u001b[0;32m   4191\u001b[0m     fetched[:\u001b[39mlen\u001b[39m(\u001b[39mself\u001b[39m\u001b[39m.\u001b[39moutputs)],\n\u001b[0;32m   4192\u001b[0m     expand_composites\u001b[39m=\u001b[39m\u001b[39mTrue\u001b[39;00m)\n",
      "File \u001b[1;32mc:\\Program Files\\Python39\\lib\\site-packages\\tensorflow\\python\\client\\session.py:1483\u001b[0m, in \u001b[0;36mBaseSession._Callable.__call__\u001b[1;34m(self, *args, **kwargs)\u001b[0m\n\u001b[0;32m   1481\u001b[0m \u001b[39mtry\u001b[39;00m:\n\u001b[0;32m   1482\u001b[0m   run_metadata_ptr \u001b[39m=\u001b[39m tf_session\u001b[39m.\u001b[39mTF_NewBuffer() \u001b[39mif\u001b[39;00m run_metadata \u001b[39melse\u001b[39;00m \u001b[39mNone\u001b[39;00m\n\u001b[1;32m-> 1483\u001b[0m   ret \u001b[39m=\u001b[39m tf_session\u001b[39m.\u001b[39;49mTF_SessionRunCallable(\u001b[39mself\u001b[39;49m\u001b[39m.\u001b[39;49m_session\u001b[39m.\u001b[39;49m_session,\n\u001b[0;32m   1484\u001b[0m                                          \u001b[39mself\u001b[39;49m\u001b[39m.\u001b[39;49m_handle, args,\n\u001b[0;32m   1485\u001b[0m                                          run_metadata_ptr)\n\u001b[0;32m   1486\u001b[0m   \u001b[39mif\u001b[39;00m run_metadata:\n\u001b[0;32m   1487\u001b[0m     proto_data \u001b[39m=\u001b[39m tf_session\u001b[39m.\u001b[39mTF_GetBuffer(run_metadata_ptr)\n",
      "\u001b[1;31mKeyboardInterrupt\u001b[0m: "
     ]
    }
   ],
   "source": [
    "epoch = 500\n",
    "batch_size = 128\n",
    "n_dimensions = 32\n",
    "\n",
    "for time_step in timestep_list:\n",
    "\n",
    "    callback = EarlyStopping(monitor='val_loss', patience=30, mode='min')\n",
    "    mc = ModelCheckpoint(f'./DB/time_step_{time_step}_batch_{batch_size}_node_{n_dimensions}.h5', monitor='val_loss', mode='min', save_best_only=True)\n",
    "\n",
    "    model = lstm_ae(db=db_zip[f'{time_step}']['train'], n_dimensions=n_dimensions)\n",
    "    history = model.fit(x=db_zip[f'{time_step}']['train'], y=db_zip[f'{time_step}']['train'], validation_data=[db_zip[f'{time_step}']['val'], db_zip[f'{time_step}']['val']], epochs=epoch, batch_size=batch_size, callbacks=[callback])"
   ]
  },
  {
   "cell_type": "code",
   "execution_count": null,
   "metadata": {},
   "outputs": [],
   "source": []
  }
 ],
 "metadata": {
  "kernelspec": {
   "display_name": "Python 3",
   "language": "python",
   "name": "python3"
  },
  "language_info": {
   "codemirror_mode": {
    "name": "ipython",
    "version": 3
   },
   "file_extension": ".py",
   "mimetype": "text/x-python",
   "name": "python",
   "nbconvert_exporter": "python",
   "pygments_lexer": "ipython3",
   "version": "3.9.10"
  },
  "orig_nbformat": 4
 },
 "nbformat": 4,
 "nbformat_minor": 2
}
